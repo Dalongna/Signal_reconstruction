{
 "cells": [
  {
   "cell_type": "code",
   "execution_count": null,
   "metadata": {},
   "outputs": [],
   "source": [
    "import pyvisa as visa\n",
    "amplitude=20\n",
    "\n",
    "# 波形参数\n",
    "frequency = 50                   # 频率: kHz\n",
    "burst_cycles = 100               # 每次突发周期中的波形周期数\n",
    "burst_period = 0.1               # 突发周期：0.1 秒（100 ms）\n",
    "sampling_rate = 1e6              # 采样率：1 MHz\n",
    "burst_duration = burst_cycles / frequency  # 单次突发信号持续时间\n",
    "\n",
    "# 打开信号发生器\n",
    "rm = visa.ResourceManager()\n",
    "inst = rm.open_resource('TCPIP::192.168.1.100::INSTR')\n",
    "\n",
    "# 获取设备信息\n",
    "inst.write(\"*IDN?\")\n",
    "print(\"Connected device:\", inst.read())\n",
    "\n",
    "# 配置脉冲信号参数\n",
    "inst.write(\":SOURce1:FUNCtion SINusoid\")        # 设置信号类型为正弦波\n",
    "inst.write(f\":SOURce1:FREQuency {frequency}KHz\")          # 设置脉冲频率为 50 kHz\n",
    "inst.write(f\":SOURce1:VOLTage:AMPLitude {amplitude}VPP\")  # 设置脉冲幅度为 10 Vpp\n",
    "\n",
    "# 配置突发模式\n",
    "inst.write(\":SOURce1:BURSt:MODE INTernal\")      # 使用内部触发模式\n",
    "inst.write(f\":SOURce1:BURSt:NCYCles {burst_cycles}\")        # 每次突发信号包含 100 个脉冲周期\n",
    "inst.write(f\":SOURce1:BURSt:INT:PERiod {burst_period}\")     # 设置突发周期为 100 ms（0.1 秒）\n",
    "inst.write(\":SOURce1:BURSt:STATe ON\")           # 启用突发模式\n",
    "\n",
    "# 打开输出\n",
    "inst.write(\":OUTPut1:STATe ON\")"
   ]
  },
  {
   "cell_type": "code",
   "execution_count": 6,
   "metadata": {},
   "outputs": [],
   "source": [
    "inst.close()  \n",
    "rm.close()"
   ]
  }
 ],
 "metadata": {
  "kernelspec": {
   "display_name": "base",
   "language": "python",
   "name": "python3"
  },
  "language_info": {
   "codemirror_mode": {
    "name": "ipython",
    "version": 3
   },
   "file_extension": ".py",
   "mimetype": "text/x-python",
   "name": "python",
   "nbconvert_exporter": "python",
   "pygments_lexer": "ipython3",
   "version": "3.12.4"
  }
 },
 "nbformat": 4,
 "nbformat_minor": 2
}
