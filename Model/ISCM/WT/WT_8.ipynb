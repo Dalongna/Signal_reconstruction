{
 "cells": [
  {
   "cell_type": "code",
   "execution_count": 1,
   "metadata": {},
   "outputs": [],
   "source": [
    "import numpy as np\n",
    "import matplotlib.pyplot as plt\n",
    "import torch\n",
    "import torch.nn as nn\n",
    "import numpy as np\n",
    "import matplotlib.pyplot as plt\n",
    "import os\n",
    "import random\n",
    "import pandas as pd\n",
    "import glob\n",
    "import pywt\n",
    "from mpl_toolkits.axes_grid1.inset_locator import inset_axes"
   ]
  },
  {
   "cell_type": "code",
   "execution_count": 2,
   "metadata": {},
   "outputs": [],
   "source": [
    "data = []\n",
    "labels = []\n",
    "\n",
    "# 拿到数据路径，方便后续读取\n",
    "dir_path = 'D:\\\\Desktop\\\\Python\\\\Signal_reconstruction\\\\Numerical_simulation_Data\\\\test'\n",
    "# 获取目录及其子目录下所有CSV文件的路径\n",
    "dataPaths = sorted(glob.glob(os.path.join(dir_path, '**', '*.csv'), recursive=True))\n",
    "random.seed(42)\n",
    "random.shuffle(dataPaths)\n",
    "\n",
    "# 遍历读取数据\n",
    "for dataPath in dataPaths:\n",
    "    # 读取数据\n",
    "    data_1 = pd.read_csv(dataPath)\n",
    "    data.append(data_1.iloc[1:10001, 1])\n",
    "\n",
    "# 将数据和标签转换为numpy数组\n",
    "test_data = np.array(data, dtype=\"float\")\n",
    "test_labels = np.array(data, dtype=\"float\")"
   ]
  },
  {
   "cell_type": "code",
   "execution_count": null,
   "metadata": {},
   "outputs": [],
   "source": [
    "test_datas=test_data.reshape(-1,test_data.shape[1],1)\n",
    "print(test_datas.shape)"
   ]
  },
  {
   "cell_type": "code",
   "execution_count": 4,
   "metadata": {},
   "outputs": [],
   "source": [
    "a=10"
   ]
  },
  {
   "cell_type": "code",
   "execution_count": null,
   "metadata": {},
   "outputs": [],
   "source": [
    "plt.style.use('default')\n",
    "plt.figure(figsize=(10,6))\n",
    "plt.rcParams['font.family'] = ['Times New Roman']\n",
    "plt.plot(test_datas[a],linewidth=1.5)\n",
    "plt.xlabel('Sample point',fontdict={'weight': 'normal', 'size': 18})\n",
    "plt.ylabel('Amplitude(mm)',fontdict={'weight': 'normal', 'size': 18})\n",
    "#坐标轴刻度大小设置\n",
    "plt.tick_params(axis='both', which='major', labelsize=15)\n",
    "plt.savefig('D:\\\\Desktop\\\\Python\\\\Signal_reconstruction\\\\Model\\\\ISCM\\\\WT\\\\test_data.jpg', dpi=600, bbox_inches='tight')"
   ]
  },
  {
   "cell_type": "code",
   "execution_count": 6,
   "metadata": {},
   "outputs": [],
   "source": [
    "def add_noise_with_snr(signal, snr_db):\n",
    "    \"\"\"\n",
    "    根据信噪比（dB）为信号添加高斯噪声\n",
    "    :param signal: 原始信号\n",
    "    :param snr_db: 信噪比（dB）\n",
    "    :return: 带噪声的信号\n",
    "    \"\"\"\n",
    "    # 计算信号功率\n",
    "    signal_power = np.mean(signal ** 2)\n",
    "    \n",
    "    # 将信噪比从分贝转换为线性比例\n",
    "    snr_linear = 10 ** (snr_db / 10)\n",
    "    \n",
    "    # 计算噪声功率\n",
    "    noise_power = signal_power / snr_linear\n",
    "    \n",
    "    # 生成高斯噪声\n",
    "    noise = np.random.normal(0, np.sqrt(noise_power), signal.shape)\n",
    "    \n",
    "    # 添加噪声\n",
    "    noisy_signal = signal + noise\n",
    "    return noisy_signal"
   ]
  },
  {
   "cell_type": "code",
   "execution_count": 7,
   "metadata": {},
   "outputs": [],
   "source": [
    "def calculate_snr(x_prime, x):\n",
    "    \"\"\"\n",
    "    计算信号的信噪比（SNR）。\n",
    "\n",
    "    参数:\n",
    "        x (numpy.ndarray): 干净信号。\n",
    "        x_prime (numpy.ndarray): 噪声信号。\n",
    "\n",
    "    返回:\n",
    "        float: 信噪比，单位为 dB。\n",
    "    \"\"\"\n",
    "    # 计算信号功率\n",
    "    signal_power = np.mean(x ** 2)\n",
    "    \n",
    "    noise = x_prime-x\n",
    "    # 计算噪声功率\n",
    "    noise_power = np.mean(noise ** 2)\n",
    "    \n",
    "    # 计算信噪比\n",
    "    if noise_power == 0:\n",
    "        raise ValueError(\"噪声功率不能为零，这可能导致除以零的错误。\")\n",
    "    \n",
    "    snr = 10 * np.log10(signal_power / noise_power)\n",
    "    \n",
    "    return snr  # 将结果转换为 Python 标量"
   ]
  },
  {
   "cell_type": "code",
   "execution_count": 8,
   "metadata": {},
   "outputs": [],
   "source": [
    "def calculate_pcc(x, y):\n",
    "    \"\"\"\n",
    "    计算两个信号的皮尔逊相关系数（PCC）。\n",
    "\n",
    "    参数:\n",
    "        x (torch.Tensor): 第一个信号，假定在 CUDA 上。\n",
    "        y (torch.Tensor): 第二个信号，假定在 CUDA 上。\n",
    "\n",
    "    返回:\n",
    "        float: 皮尔逊相关系数。\n",
    "    \"\"\"\n",
    "    \n",
    "    # 计算均值\n",
    "    mean_x = np.mean(x)\n",
    "    mean_y = np.mean(y)\n",
    "    \n",
    "    # 计算协方差\n",
    "    covariance = np.mean((x - mean_x) * (y - mean_y))\n",
    "    \n",
    "    # 计算标准差\n",
    "    std_x = np.std(x)\n",
    "    std_y = np.std(y)\n",
    "    \n",
    "    # 计算皮尔逊相关系数\n",
    "    if std_x == 0 or std_y == 0:\n",
    "        raise ValueError(\"标准差不能为零，这可能导致除以零的错误。\")\n",
    "    \n",
    "    pcc = covariance / (std_x * std_y)\n",
    "\n",
    "    return pcc  # 将结果转换为 Python 标量\n"
   ]
  },
  {
   "cell_type": "code",
   "execution_count": null,
   "metadata": {},
   "outputs": [],
   "source": [
    "# 添加噪声，信噪比为20dB\n",
    "snr_db = 20  # 信噪比（dB）\n",
    "test_noisy_signal = add_noise_with_snr(test_datas, snr_db)\n",
    "print(f'test_noisy_signal.shape:{test_noisy_signal.shape}')"
   ]
  },
  {
   "cell_type": "code",
   "execution_count": null,
   "metadata": {},
   "outputs": [],
   "source": [
    "plt.style.use('default')\n",
    "plt.figure(figsize=(10,6))\n",
    "plt.rcParams['font.family'] = ['Times New Roman']\n",
    "plt.plot(test_noisy_signal[a],linewidth=1.5)\n",
    "plt.xlabel('Sample point',fontdict={'weight': 'normal', 'size': 18})\n",
    "plt.ylabel('Amplitude(mm)',fontdict={'weight': 'normal', 'size': 18})\n",
    "#坐标轴刻度大小设置\n",
    "plt.tick_params(axis='both', which='major', labelsize=15)\n",
    "plt.savefig('D:\\\\Desktop\\\\Python\\\\Signal_reconstruction\\\\Model\\\\ISCM\\\\WT\\\\test_data_noise.jpg', dpi=600, bbox_inches='tight')"
   ]
  },
  {
   "cell_type": "code",
   "execution_count": 11,
   "metadata": {},
   "outputs": [],
   "source": [
    "n = 8  # 压缩比"
   ]
  },
  {
   "cell_type": "code",
   "execution_count": 12,
   "metadata": {},
   "outputs": [],
   "source": [
    "Original_signal = test_datas[a].flatten()\n",
    "Test_signal = test_noisy_signal[a].flatten()"
   ]
  },
  {
   "cell_type": "code",
   "execution_count": 13,
   "metadata": {},
   "outputs": [],
   "source": [
    "N = len(Test_signal)\n",
    "# 小波分解\n",
    "wavelet = 'db1'  # 使用Daubechies 1小波\n",
    "level = 3  # 分解层数\n",
    "coeffs = pywt.wavedec(Test_signal, wavelet, level=level)\n",
    "\n",
    "# 计算阈值\n",
    "# 压缩比n=8，保留1/8的系数\n",
    "threshold = np.max(np.abs(coeffs[-1])) * np.sqrt(2 * np.log(N)) / n\n",
    "\n",
    "# 阈值处理（软阈值）\n",
    "coeffs_thresholded = [pywt.threshold(c, threshold, mode='soft') for c in coeffs]\n",
    "\n",
    "# 小波重构\n",
    "y = pywt.waverec(coeffs_thresholded, wavelet)\n",
    "\n",
    "# 裁剪重构信号以匹配原始信号长度\n",
    "Signal_reconstructed = y[:N]\n",
    "\n",
    "# 将重构后的数据重新拼接为一维信号\n",
    "reconstructed_signal = Signal_reconstructed.flatten()"
   ]
  },
  {
   "cell_type": "code",
   "execution_count": 14,
   "metadata": {},
   "outputs": [],
   "source": [
    "loss=nn.MSELoss()"
   ]
  },
  {
   "cell_type": "code",
   "execution_count": 15,
   "metadata": {},
   "outputs": [],
   "source": [
    "reconstructed_signal_1,Original_signal_1= torch.from_numpy(reconstructed_signal),torch.from_numpy(Original_signal)"
   ]
  },
  {
   "cell_type": "code",
   "execution_count": null,
   "metadata": {},
   "outputs": [],
   "source": [
    "y_loss = 1e4*loss(reconstructed_signal_1,Original_signal_1)\n",
    "SNR=calculate_snr(reconstructed_signal,Original_signal)\n",
    "PCC=calculate_pcc(reconstructed_signal,Original_signal)\n",
    "print(f'Reconstruction_error:{y_loss:4f}')\n",
    "print(f'Reconstruction_SNR:{SNR:.4f}')\n",
    "print(f'Reconstruction_PCC:{PCC:.4f}')"
   ]
  },
  {
   "cell_type": "code",
   "execution_count": null,
   "metadata": {},
   "outputs": [],
   "source": [
    "plt.style.use('default')\n",
    "plt.figure(figsize=(10,6))\n",
    "plt.rcParams['font.family'] = ['Times New Roman']\n",
    "plt.plot(Original_signal,linewidth=1.5, label='Original Signal')\n",
    "plt.plot(reconstructed_signal,linewidth=1.5, linestyle='--',label='Reconstructed Signal')\n",
    "\n",
    "plt.xlabel('Sample point',fontdict={'weight': 'normal', 'size': 18})\n",
    "plt.ylabel('Amplitude(mm)',fontdict={'weight': 'normal', 'size': 18})\n",
    "\n",
    "plt.xlim([10,1e4])\n",
    "plt.ylim([-0.05,0.05])\n",
    "#坐标轴刻度大小设置\n",
    "plt.tick_params(axis='both', which='major', labelsize=15)\n",
    "plt.legend(loc='upper right', fontsize=20)\n",
    "plt.savefig(f'D:\\\\Desktop\\\\Python\\\\Signal_reconstruction\\\\Model\\\\ISCM\\\\WT\\\\test_data_reconstruction_{n}.jpg', dpi=600, bbox_inches='tight')"
   ]
  },
  {
   "cell_type": "code",
   "execution_count": null,
   "metadata": {},
   "outputs": [],
   "source": [
    "# 计算FFT\n",
    "def calculate_fft(signal, sampling_rate):\n",
    "    N = len(signal)  # 信号长度\n",
    "    fft_values = np.fft.fft(signal)  # 计算FFT\n",
    "    fft_magnitude = np.abs(fft_values)  # 取模\n",
    "    fft_magnitude = fft_magnitude[:N // 2]  # 只取一半（正频率部分）\n",
    "    freq = np.fft.fftfreq(N, d=1 / sampling_rate)[:N // 2]  # 频率轴\n",
    "    return freq, fft_magnitude\n",
    "\n",
    "# 采样率\n",
    "sampling_rate = 1e7\n",
    "\n",
    "# 假设 Original_signal 和 reconstructed_signal 已经定义\n",
    "freq_origin, fft_magnitude_origin = calculate_fft(Original_signal, sampling_rate)\n",
    "freq_reconstructed, fft_magnitude_reconstructed = calculate_fft(reconstructed_signal, sampling_rate)\n",
    "\n",
    "# 绘制FFT频谱图\n",
    "fig, ax = plt.subplots(figsize=(10, 6))\n",
    "# 信号的FFT\n",
    "ax.plot(freq_origin/1e3, fft_magnitude_origin, label='Original Signal')\n",
    "ax.plot(freq_reconstructed/1e3, fft_magnitude_reconstructed, linestyle='--', label='Reconstructed Signal', color='orange')\n",
    "ax.set_xlabel('Frequency (kHz)', fontdict={'weight': 'normal', 'size': 18})\n",
    "ax.set_ylabel('Magnitude', fontdict={'weight': 'normal', 'size': 18})\n",
    "ax.legend()\n",
    "ax.set_xlim([0, 120])\n",
    "ax.tick_params(axis='both', which='major', labelsize=15)\n",
    "ax.legend(loc='upper right', fontsize=20)\n",
    "\n",
    "# 创建局部放大图，手动指定位置\n",
    "# bbox_to_anchor 是一个四元组 (x, y, width, height)，表示局部放大图的位置和大小\n",
    "# bbox_transform=ax.transAxes 表示使用主图的坐标系\n",
    "axins = inset_axes(ax, width=\"40%\", height=\"40%\", loc='lower left',\n",
    "                   bbox_to_anchor=(0.55, 0.1, 1, 1), bbox_transform=ax.transAxes, borderpad=1)\n",
    "axins.plot(freq_origin/1e3, fft_magnitude_origin, label='Original Signal')\n",
    "axins.plot(freq_reconstructed/1e3, fft_magnitude_reconstructed, linestyle='--', label='Reconstructed Signal', color='orange')\n",
    "axins.set_xlim([80, 120])\n",
    "axins.set_ylim([0, 0.7])\n",
    "axins.tick_params(axis='both', which='major', labelsize=10)\n",
    "\n",
    "plt.savefig(f'D:\\\\Desktop\\\\Python\\\\Signal_reconstruction\\\\Model\\\\ISCM\\\\WT\\\\test_reconstruction_FFT_{n}.jpg', dpi=600, bbox_inches='tight')\n",
    "plt.show()"
   ]
  },
  {
   "cell_type": "code",
   "execution_count": null,
   "metadata": {},
   "outputs": [],
   "source": [
    "fft_magnitude_reconstructed_1,fft_magnitude_origin_1 = torch.from_numpy(fft_magnitude_reconstructed),torch.from_numpy(fft_magnitude_origin)\n",
    "\n",
    "y_loss = 1e4*loss(fft_magnitude_reconstructed_1,fft_magnitude_origin_1)\n",
    "\n",
    "SNR=calculate_snr(fft_magnitude_reconstructed,fft_magnitude_origin)\n",
    "PCC=calculate_pcc(fft_magnitude_reconstructed,fft_magnitude_origin)\n",
    "print(f'Reconstruction_error:{y_loss:.4f}')\n",
    "print(f'Reconstruction_SNR:{SNR:.4f}')\n",
    "print(f'Reconstruction_PCC:{PCC:.4f}')"
   ]
  }
 ],
 "metadata": {
  "kernelspec": {
   "display_name": "base",
   "language": "python",
   "name": "python3"
  },
  "language_info": {
   "codemirror_mode": {
    "name": "ipython",
    "version": 3
   },
   "file_extension": ".py",
   "mimetype": "text/x-python",
   "name": "python",
   "nbconvert_exporter": "python",
   "pygments_lexer": "ipython3",
   "version": "3.12.4"
  }
 },
 "nbformat": 4,
 "nbformat_minor": 2
}
