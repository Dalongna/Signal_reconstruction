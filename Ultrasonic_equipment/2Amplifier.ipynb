{
 "cells": [
  {
   "cell_type": "code",
   "execution_count": 1,
   "metadata": {},
   "outputs": [],
   "source": [
    "import serial\n",
    "import time\n",
    "\n",
    "# 设置串口参数\n",
    "ser = serial.Serial(\n",
    "    port='COM3',  # 这里的端口号可能需要根据你的系统和设备进行调整\n",
    "    baudrate=9600,\n",
    "    bytesize=serial.EIGHTBITS,\n",
    "    parity=serial.PARITY_NONE,\n",
    "    stopbits=serial.STOPBITS_ONE,\n",
    "    timeout=1\n",
    ")"
   ]
  },
  {
   "cell_type": "code",
   "execution_count": 2,
   "metadata": {},
   "outputs": [],
   "source": [
    "def send_command(command):\n",
    "    ser.write(command.encode() + b'\\r\\n')  # 发送命令\n",
    "    time.sleep(0.1)  # 等待命令执行\n",
    "    return ser.readline().decode().strip()  # 读取返回结果\n",
    "\n",
    "def set_output_on():\n",
    "    return send_command(\"ATA,SET,AON,00000;\")\n",
    "\n",
    "def set_output_off():\n",
    "    return send_command(\"ATA,SET,AOF,00000;\")\n",
    "\n",
    "def set_input_resistance(value):\n",
    "    command = f\"ATA,SET,RIN,{value};\"\n",
    "    return send_command(command)\n",
    "\n",
    "def set_output_resistance(value):\n",
    "    command = f\"ATA,SET,ROT,{value};\"\n",
    "    return send_command(command)\n",
    "\n",
    "def set_amplitude_gain(gain):\n",
    "    command = f\"ATA,SET,AMP,{gain};\"\n",
    "    return send_command(command)\n",
    "\n",
    "def set_dc_offset(voltage):\n",
    "    command = f\"ATA,SET,SOT,{voltage};\"\n",
    "    return send_command(command)\n",
    "\n",
    "def set_output_voltage_range(range_code):\n",
    "    command = f\"ATA,SET,SPR,{range_code};\"\n",
    "    return send_command(command)"
   ]
  },
  {
   "cell_type": "code",
   "execution_count": null,
   "metadata": {},
   "outputs": [],
   "source": [
    "# 示例：开启输出\n",
    "print(set_output_on())\n",
    "\n",
    "# 示例：设置输入电阻为10kΩ\n",
    "print(set_input_resistance(\"00050\"))\n",
    "\n",
    "# 示例：设置输出电阻为50Ω\n",
    "print(set_output_resistance(\"00050\"))\n",
    "\n",
    "# 示例：设置放大倍数为10倍\n",
    "print(set_amplitude_gain(\"00100\"))\n",
    "\n",
    "# 示例：设置直流偏置为+75.0V\n",
    "print(set_dc_offset(\"+0000\"))\n",
    "\n",
    "# 示例：设置输出电压范围为+160V~-40V\n",
    "print(set_output_voltage_range(\"01000\"))"
   ]
  },
  {
   "cell_type": "code",
   "execution_count": 4,
   "metadata": {},
   "outputs": [],
   "source": [
    "# 关闭输出\n",
    "#print(set_output_off())"
   ]
  }
 ],
 "metadata": {
  "kernelspec": {
   "display_name": "base",
   "language": "python",
   "name": "python3"
  },
  "language_info": {
   "codemirror_mode": {
    "name": "ipython",
    "version": 3
   },
   "file_extension": ".py",
   "mimetype": "text/x-python",
   "name": "python",
   "nbconvert_exporter": "python",
   "pygments_lexer": "ipython3",
   "version": "3.12.4"
  }
 },
 "nbformat": 4,
 "nbformat_minor": 2
}
